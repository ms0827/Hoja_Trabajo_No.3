{
 "cells": [
  {
   "cell_type": "markdown",
   "metadata": {},
   "source": [
    "# Ciencia de Datos en Python"
   ]
  },
  {
   "cell_type": "markdown",
   "metadata": {},
   "source": [
    "### Hoja de Trabajo No.3: Programacion Orinetada a Objetos"
   ]
  },
  {
   "cell_type": "markdown",
   "metadata": {},
   "source": [
    "#### Presentada por Margerys Salgado"
   ]
  },
  {
   "cell_type": "markdown",
   "metadata": {},
   "source": [
    "#### Generacion de Clase"
   ]
  },
  {
   "cell_type": "markdown",
   "metadata": {},
   "source": [
    "##### Metodo Minimo Cuadrados Ordinarios: La Recta de Mejor Ajuste"
   ]
  },
  {
   "cell_type": "markdown",
   "metadata": {},
   "source": [
    "* MCO asegura que se minimicen la suma de errores al cuadrado, entendiéndose que el término del error no es más que la diferencia entre los valores reales y el estimado; es por esto que se denomina mínimos cuadrados ordinarios. \n",
    "\n",
    "* El MCO producirá una recta que se extiende por el centro del diagrama de dispersión aproximándose a todos los puntos de datos más que cualquier otra recta, tal que la suma de los errores al cuadrado es menor de lo que sería con cualquier otra recta.\n",
    "\n",
    "* Es importante mencionar que la recta MCO se basa en las desviaciones de las observaciones a partir de su media."
   ]
  },
  {
   "cell_type": "markdown",
   "metadata": {},
   "source": [
    "##### Estructura"
   ]
  },
  {
   "cell_type": "markdown",
   "metadata": {},
   "source": [
    "**Constructor Principal:** este constructor debe poseer la siguiente forma _ _init_ _ (self, x, y) donde X y Y son listas de números con la misma cantidad de elementos.\n",
    "\n",
    "**método Predict(val):** este método devuelve la predicción de la regresión aplicada sobre el valor que recibe como parámetro.\n",
    "\n",
    "**método PredictN(vals):** este método devuelve la predicción de la regresión aplicada sobre una lista de valores que recibe como parámetro.\n",
    "\n",
    "**método PredictN(vals):** este método devuelve la predicción de la regresión aplicada sobre una lista de valores que recibe como parámetro.\n",
    "\n",
    "**método getAllRegParams():**  este método devuelve un diccionario con todos los parámetros y estadísticos de la regresión lineal.\n",
    "\n",
    "**Constructor from file(fileName):**  este método es otro constructor el cual permite crear la regresión lineal a partir de un archivo .csv, notar que fileName es el nombre del archivo que recibe como parámetro. Dentro del archivo deben existir dos columnas, la primera es la variable dependiente es decir Y y la segunda se refiere a los valores de la variable independiente, es decir X regresión desde dos listas numéricas.\n"
   ]
  },
  {
   "cell_type": "markdown",
   "metadata": {},
   "source": [
    "##### Desarrollo"
   ]
  },
  {
   "cell_type": "code",
   "execution_count": 4,
   "metadata": {},
   "outputs": [
    {
     "name": "stdout",
     "output_type": "stream",
     "text": [
      "8.934059166448506\n",
      "b0:7.0325935491277205,b1:0.04753664043301965,r2:0.61187505085007,r:0.7822244248616058\n"
     ]
    }
   ],
   "source": [
    "ht3 = \"data_ht3.csv\"\n",
    "class My_regresion:\n",
    "    x=[]\n",
    "    y=[] \n",
    "    \n",
    "    #constructor principal\n",
    "    def __init__(self, x, y, beta0, beta1, scx, scy, scxy):\n",
    "        self.x = x\n",
    "        self.y = y\n",
    "        self.b0 = beta0\n",
    "        self.b1 = beta1\n",
    "        self.scx = scx\n",
    "        self.scy = scy\n",
    "        self.scxy = scxy\n",
    "            \n",
    "    def predict(self, val):\n",
    "        Y_hat = self.b0 + self.b1*val\n",
    "        return Y_hat\n",
    "    \n",
    "    def predictN(self,vals):\n",
    "        serie_Y_hat=[] \n",
    "        for i in range(len(vals)):\n",
    "            serie_Y_hat.append(self.b0 + self.b1*vals[i])\n",
    "        return serie_Y_hat\n",
    "    \n",
    "    def r2(self):\n",
    "        r2 = (self.scxy)**2/(self.scx*self.scy)\n",
    "        return r2    \n",
    "    \n",
    "    def r(self):\n",
    "        r = self.scxy/(self.scx*self.scy)**(1/2)\n",
    "        return r\n",
    "    \n",
    "    def getAllRegParams(self):\n",
    "        return (f'b0:{self.b0},b1:{self.b1},r2:{self.r2()},r:{self.r()}')\n",
    "    \n",
    "    @classmethod\n",
    "    def from_file(cls, path):\n",
    "        v1 = [] # lista X variable independiente\n",
    "        v2 = [] # lista Y variable dependiente\n",
    "        v3 = 0  # sumatoria de Xi\n",
    "        v4 = 0  # sumatoria de Yi\n",
    "        v5 = 0  # sumatoria producto XY\n",
    "        v6 = 0  # sumatoria X2\n",
    "        v7 = 0  # sumatoria Y2          \n",
    "        with open(path,'r',newline='') as data:\n",
    "            next(data)\n",
    "            v2, v1 = zip(*((float(n) for n in line.rstrip().rsplit(\",\", maxsplit=2)[-2:]) for line in data))\n",
    "            \n",
    "            for i in range(len(v1)):\n",
    "                v3 = v1[i] + v3\n",
    "                v4 = v2[i] + v4\n",
    "                v5 = v1[i]*v2[i] + v5\n",
    "                v6 = v1[i]*v1[i] + v6\n",
    "                v7 = v2[i]*v2[i] + v7\n",
    "            beta0 = (v6*v4-v3*v5)/(len(v1)*v6-v3*v3)\n",
    "            beta1 = (len(v1)*v5-v3*v4)/(len(v1)*v6-v3*v3)\n",
    "            scx = v6-(v3*v3)/len(v1)\n",
    "            scy = v7-(v4*v4)/len(v2)\n",
    "            scxy = v5 - (v3*v4)/len(v1) \n",
    "            return cls(v1, v2, beta0, beta1, scx, scy, scxy)\n",
    "    \n",
    "#Crear un Objeto relacionado con la Clase\n",
    "#objeto. nombre de la clase. nombre del atributo\n",
    "modelo = My_regresion.from_file(ht3)\n",
    "#modelo.scxy\n",
    "\n",
    "#print los return\n",
    "print(modelo.predict(40))\n",
    "#print(modelo.predictN())\n",
    "#print(modelo.r())\n",
    "#print(modelo.r2())\n",
    "print(modelo.getAllRegParams())\n",
    "\n"
   ]
  },
  {
   "cell_type": "code",
   "execution_count": null,
   "metadata": {},
   "outputs": [],
   "source": []
  },
  {
   "cell_type": "code",
   "execution_count": null,
   "metadata": {},
   "outputs": [],
   "source": []
  }
 ],
 "metadata": {
  "kernelspec": {
   "display_name": "Python 3",
   "language": "python",
   "name": "python3"
  },
  "language_info": {
   "codemirror_mode": {
    "name": "ipython",
    "version": 3
   },
   "file_extension": ".py",
   "mimetype": "text/x-python",
   "name": "python",
   "nbconvert_exporter": "python",
   "pygments_lexer": "ipython3",
   "version": "3.8.5"
  }
 },
 "nbformat": 4,
 "nbformat_minor": 4
}
