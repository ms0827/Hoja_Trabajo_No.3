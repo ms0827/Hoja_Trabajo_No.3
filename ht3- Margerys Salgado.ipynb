{
 "cells": [
  {
   "cell_type": "markdown",
   "metadata": {},
   "source": [
    "# Ciencia de Datos en Python\n",
    "## Hoja de Trabajo No.3: Diccionarios, Sets y Programacion Orientada a Objetos\n",
    "## Presentada por: Margerys Salgado"
   ]
  },
  {
   "cell_type": "markdown",
   "metadata": {},
   "source": [
    "## Programacion Orientada a Objetos"
   ]
  },
  {
   "cell_type": "markdown",
   "metadata": {},
   "source": [
    "### Determinacion del Modelo de Regresion Lineal Simple"
   ]
  },
  {
   "cell_type": "markdown",
   "metadata": {},
   "source": [
    "#### Carga de los Datos"
   ]
  },
  {
   "cell_type": "code",
   "execution_count": 874,
   "metadata": {},
   "outputs": [],
   "source": [
    "import csv\n",
    "\n",
    "with open(\"data_ht3.csv\", \"r\", newline='') as ht3: \n",
    "    next(ht3)\n",
    "    Y, X = zip(*((float(n) for n in line.rstrip().rsplit(\",\", maxsplit=2)[-2:])\n",
    "                    for line in ht3))\n",
    "\n",
    "#print(X)\n",
    "#print(Y)"
   ]
  },
  {
   "cell_type": "code",
   "execution_count": 875,
   "metadata": {},
   "outputs": [
    {
     "data": {
      "text/plain": [
       "200"
      ]
     },
     "execution_count": 875,
     "metadata": {},
     "output_type": "execute_result"
    }
   ],
   "source": [
    "len(X)\n",
    "len(Y)"
   ]
  },
  {
   "cell_type": "code",
   "execution_count": 876,
   "metadata": {
    "scrolled": true
   },
   "outputs": [
    {
     "data": {
      "text/plain": [
       "tuple"
      ]
     },
     "execution_count": 876,
     "metadata": {},
     "output_type": "execute_result"
    }
   ],
   "source": [
    "type(X)\n",
    "type(Y)"
   ]
  },
  {
   "cell_type": "markdown",
   "metadata": {},
   "source": [
    "#### Método Mínimo Cuadrados Ordinarios (MCO)"
   ]
  },
  {
   "cell_type": "markdown",
   "metadata": {},
   "source": [
    "* MCO asegura que se minimicen la suma de errores al cuadrado, entendiéndose que el término del error no es más que la diferencia entre los valores reales y el estimado; es por esto que se denomina mínimos cuadrados ordinarios. \n",
    "\n",
    "* El MCO producirá una recta que se extiende por el centro del diagrama de dispersión aproximándose a todos los puntos de datos más que cualquier otra recta, tal que la suma de los errores al cuadrado es menor de lo que sería con cualquier otra recta.\n",
    "\n",
    "* Es importante mencionar que la recta MCO se basa en las desviaciones de las observaciones a partir de su media."
   ]
  },
  {
   "cell_type": "markdown",
   "metadata": {},
   "source": [
    "##### Variables (Lista de Valores)"
   ]
  },
  {
   "cell_type": "code",
   "execution_count": 579,
   "metadata": {},
   "outputs": [],
   "source": [
    "print(X)"
   ]
  },
  {
   "cell_type": "code",
   "execution_count": 580,
   "metadata": {},
   "outputs": [],
   "source": [
    "print(Y)"
   ]
  },
  {
   "cell_type": "code",
   "execution_count": 877,
   "metadata": {},
   "outputs": [],
   "source": [
    "X = np.array(X)\n",
    "Y = np.array(Y)"
   ]
  },
  {
   "cell_type": "markdown",
   "metadata": {},
   "source": [
    "##### Para determinar la recta que mejor se ajuste, MCO requiere de ciertos productos"
   ]
  },
  {
   "cell_type": "markdown",
   "metadata": {},
   "source": [
    "###### Calculo de las Medias"
   ]
  },
  {
   "cell_type": "code",
   "execution_count": 504,
   "metadata": {},
   "outputs": [
    {
     "data": {
      "text/plain": [
       "147.0425"
      ]
     },
     "execution_count": 504,
     "metadata": {},
     "output_type": "execute_result"
    }
   ],
   "source": [
    "med_x = mean(X)\n",
    "med_x"
   ]
  },
  {
   "cell_type": "code",
   "execution_count": 507,
   "metadata": {},
   "outputs": [
    {
     "data": {
      "text/plain": [
       "14.022500000000003"
      ]
     },
     "execution_count": 507,
     "metadata": {},
     "output_type": "execute_result"
    }
   ],
   "source": [
    "med_y = mean(Y)\n",
    "med_y"
   ]
  },
  {
   "cell_type": "markdown",
   "metadata": {},
   "source": [
    "##### Calculo de la Varianza"
   ]
  },
  {
   "cell_type": "code",
   "execution_count": 583,
   "metadata": {},
   "outputs": [
    {
     "data": {
      "text/plain": [
       "1466819.0287500012"
      ]
     },
     "execution_count": 583,
     "metadata": {},
     "output_type": "execute_result"
    }
   ],
   "source": [
    "var_x = sum((X - mean(X))**2)\n",
    "var_x"
   ]
  },
  {
   "cell_type": "code",
   "execution_count": 584,
   "metadata": {},
   "outputs": [
    {
     "data": {
      "text/plain": [
       "5417.148749999998"
      ]
     },
     "execution_count": 584,
     "metadata": {},
     "output_type": "execute_result"
    }
   ],
   "source": [
    "var_y = sum((Y - mean(Y))**2)\n",
    "var_y"
   ]
  },
  {
   "cell_type": "markdown",
   "metadata": {},
   "source": [
    "##### Suma de los Cuadrados"
   ]
  },
  {
   "cell_type": "code",
   "execution_count": 509,
   "metadata": {},
   "outputs": [
    {
     "data": {
      "text/plain": [
       "1466819.0287500015"
      ]
     },
     "execution_count": 509,
     "metadata": {},
     "output_type": "execute_result"
    }
   ],
   "source": [
    "SCx = (sum(X*X))-(((sum(X))**2)/len(X))\n",
    "SCx"
   ]
  },
  {
   "cell_type": "code",
   "execution_count": 490,
   "metadata": {},
   "outputs": [
    {
     "data": {
      "text/plain": [
       "5417.148749999993"
      ]
     },
     "execution_count": 490,
     "metadata": {},
     "output_type": "execute_result"
    }
   ],
   "source": [
    "SCy = (sum(Y*Y))-(((sum(Y))**2)/len(Y))\n",
    "SCy"
   ]
  },
  {
   "cell_type": "markdown",
   "metadata": {},
   "source": [
    "##### Suma de los Productos Cruzados de X,Y"
   ]
  },
  {
   "cell_type": "code",
   "execution_count": 491,
   "metadata": {
    "scrolled": true
   },
   "outputs": [
    {
     "data": {
      "text/plain": [
       "69727.64874999993"
      ]
     },
     "execution_count": 491,
     "metadata": {},
     "output_type": "execute_result"
    }
   ],
   "source": [
    "SCxy = (sum(X*Y)) - (((sum(X))*(sum(Y)))/len(X)) \n",
    "SCxy"
   ]
  },
  {
   "cell_type": "markdown",
   "metadata": {},
   "source": [
    "##### Parámetros de Regresión"
   ]
  },
  {
   "cell_type": "markdown",
   "metadata": {},
   "source": [
    "Pendiente de la Recta de Regresion"
   ]
  },
  {
   "cell_type": "code",
   "execution_count": 722,
   "metadata": {},
   "outputs": [
    {
     "data": {
      "text/plain": [
       "0.04753664043301965"
      ]
     },
     "execution_count": 722,
     "metadata": {},
     "output_type": "execute_result"
    }
   ],
   "source": [
    "b1 = SCxy/SCx\n",
    "b1"
   ]
  },
  {
   "cell_type": "markdown",
   "metadata": {},
   "source": [
    "Intercepto de la recta de regresion"
   ]
  },
  {
   "cell_type": "code",
   "execution_count": 723,
   "metadata": {},
   "outputs": [
    {
     "data": {
      "text/plain": [
       "7.032593549127711"
      ]
     },
     "execution_count": 723,
     "metadata": {},
     "output_type": "execute_result"
    }
   ],
   "source": [
    "b0 = med_y - (b1*med_x)\n",
    "b0"
   ]
  },
  {
   "cell_type": "markdown",
   "metadata": {},
   "source": [
    "##### Modelo de Regresión Estimado"
   ]
  },
  {
   "cell_type": "code",
   "execution_count": 881,
   "metadata": {},
   "outputs": [],
   "source": [
    "Y_hat = b0 + b1*X"
   ]
  },
  {
   "cell_type": "markdown",
   "metadata": {},
   "source": [
    "##### Suma de Cuadrados Totales"
   ]
  },
  {
   "cell_type": "code",
   "execution_count": 547,
   "metadata": {},
   "outputs": [
    {
     "data": {
      "text/plain": [
       "5417.148749999998"
      ]
     },
     "execution_count": 547,
     "metadata": {},
     "output_type": "execute_result"
    }
   ],
   "source": [
    "SCT = sum((Y-(med_y))**2)\n",
    "SCT"
   ]
  },
  {
   "cell_type": "markdown",
   "metadata": {},
   "source": [
    "##### Suma de Cuadrados de la Regresión"
   ]
  },
  {
   "cell_type": "code",
   "execution_count": 548,
   "metadata": {},
   "outputs": [
    {
     "data": {
      "text/plain": [
       "3314.6181668686354"
      ]
     },
     "execution_count": 548,
     "metadata": {},
     "output_type": "execute_result"
    }
   ],
   "source": [
    "SCR = sum(((Y_hat)-(med_y))**2)\n",
    "SCR"
   ]
  },
  {
   "cell_type": "markdown",
   "metadata": {},
   "source": [
    "##### Suma de Cuadrados del Error"
   ]
  },
  {
   "cell_type": "code",
   "execution_count": 552,
   "metadata": {},
   "outputs": [
    {
     "data": {
      "text/plain": [
       "2102.5305831313512"
      ]
     },
     "execution_count": 552,
     "metadata": {},
     "output_type": "execute_result"
    }
   ],
   "source": [
    "SCE = sum((Y-(Y_hat))**2)\n",
    "SCE"
   ]
  },
  {
   "cell_type": "markdown",
   "metadata": {},
   "source": [
    "##### Coeficiente de Correlación"
   ]
  },
  {
   "cell_type": "code",
   "execution_count": 1078,
   "metadata": {},
   "outputs": [
    {
     "data": {
      "text/plain": [
       "0.7822244248616058"
      ]
     },
     "execution_count": 1078,
     "metadata": {},
     "output_type": "execute_result"
    }
   ],
   "source": [
    "rt = SCxy/((SCx*SCy)**(1/2))\n",
    "rt"
   ]
  },
  {
   "cell_type": "markdown",
   "metadata": {},
   "source": [
    "##### Coeficiente de Determinación"
   ]
  },
  {
   "cell_type": "code",
   "execution_count": 799,
   "metadata": {
    "scrolled": true
   },
   "outputs": [
    {
     "data": {
      "text/plain": [
       "0.61187505085007"
      ]
     },
     "execution_count": 799,
     "metadata": {},
     "output_type": "execute_result"
    }
   ],
   "source": [
    "r2 = ((SCxy)**2)/(SCx*SCy)\n",
    "r2"
   ]
  },
  {
   "cell_type": "markdown",
   "metadata": {},
   "source": [
    "### Constructor"
   ]
  },
  {
   "cell_type": "code",
   "execution_count": 1077,
   "metadata": {},
   "outputs": [
    {
     "name": "stdout",
     "output_type": "stream",
     "text": [
      "Modelo Estimado Y_hat: b0:0.04753664043301965 + b1:0.04753664043301965*Xi,\n",
      "Estadisticos Estimados: b0:0.04753664043301965, b1:7.0325935491277205, r2:0.61187505085007, r:7.0325935491277205,\n",
      "Serie Modelo Estimado([17.97077451  9.14797405  7.85022376 14.23439457 15.62721814  7.44616232\n",
      "  9.76595037 12.74649773  7.44140866 16.53041431 10.17476548 17.23871025\n",
      "  8.16396559 11.66741599 16.73482186 16.32125309 10.25557777 20.40940417\n",
      " 10.32212907 14.03474068 17.41459582 18.31779199  7.6600772  17.88520856\n",
      "  9.99412625 19.52997632 13.82557947 18.44614092 18.85970969 10.38868036\n",
      " 20.95607553 12.39948025 11.653155   19.65832525 11.58185004 20.85149492\n",
      " 19.72012288 10.58358059  9.08142275 17.87094757 16.65876324 15.44657891\n",
      " 20.98935118 16.86792445  8.22576322 15.35625929 11.2966302  18.43663359\n",
      " 17.83291826 10.21279479 16.53041431 11.80527225 17.31952254 15.71278409\n",
      " 19.52046899 16.48763133  7.37961102 13.50708398 17.05331735 17.04856369\n",
      "  9.57580381 19.45391769 18.4081116  11.91460652 13.26464711 10.31262174\n",
      "  8.52999772 13.65444756 18.31779199 17.3385372  16.49713866 12.25211667\n",
      "  8.30657551 13.18383482 17.17691262  7.83596277  8.33985116 12.76075872\n",
      "  7.28929141 12.54684384 10.66439288 18.43187992 10.61210257 10.28409975\n",
      " 17.18166628 16.21667248 10.65963921 12.29489965 11.2300789  12.25211667\n",
      " 13.41676436  8.39214147 17.38132017 18.95953663 12.13802873 14.79532693\n",
      " 16.4258337  15.82211837 20.80395828 13.45954734 17.60474238 21.12245377\n",
      " 20.3523602  15.96472829 18.3558213  13.58789626  8.22100956 11.32990584\n",
      "  7.65532354 19.17345152 17.76636696 18.52219954 15.38478127 16.99627338\n",
      " 10.74995883 10.60259525 13.6496939  10.66439288 13.00794925  7.95480437\n",
      " 13.74952084  7.92628239 17.68080101 12.88435399 17.94225253 11.17778859\n",
      "  7.40337934 10.84503211 17.50491544  9.86577732  7.0658692  19.63931059\n",
      "  7.43190133 17.48114712  8.78669558  9.32861328  8.24953154 20.04337204\n",
      "  9.07666909 15.82211837 10.52178296 16.2404408  17.51442276 12.00492614\n",
      " 11.60561836 13.7019842  18.44614092 18.5935045   8.83898589  9.15748138\n",
      " 20.37612852 12.78452704 16.4258337  15.17562006 15.95997462  7.22749377\n",
      " 11.49628409 14.15358229  7.58877224 13.29316909 15.23266402 11.10648363\n",
      " 15.98849661 14.80483426 12.60388781 18.17993573  7.88349941 16.86317079\n",
      " 17.2719859  20.54726042  9.40942557 14.8523709   7.9643117  15.0377638\n",
      " 17.60474238 20.19548929 18.84069503 15.12332975 20.18598196 14.9046612\n",
      " 14.47683144 17.41934948  9.70415274 20.70413134 19.09739289 16.77760484\n",
      " 13.66395489 16.11684554 20.62807271  7.92152873  8.91029085 10.6216099\n",
      "  7.85022376 14.96170517 14.14882862  8.84849321 11.51054508 15.44657891\n",
      " 20.51398478 18.06584779])\n"
     ]
    }
   ],
   "source": [
    "#Clase\n",
    "class My_regresion:\n",
    "    \n",
    "    #Metodo Constructor Principal()\n",
    "    def __init__(self, x, y):\n",
    "        #Atributos (variables)\n",
    "        self.med_x = (sum(X)/len(X))\n",
    "        self.med_y = (sum(Y)/len(Y))\n",
    "        self.var_x = sum((X - (sum(X)/len(X)))**2)\n",
    "        self.var_y = sum((Y - (sum(Y)/len(Y)))**2)\n",
    "        self.SCx = (sum(X*X))-(((sum(X))**2)/len(X))\n",
    "        self.SCxy = (sum(X*Y)) - (((sum(X))*(sum(Y)))/len(X))\n",
    "        self.r2 = ((SCxy)**2)/(SCx*SCy)\n",
    "        self.r = SCxy/((SCx*SCy)**(1/2))\n",
    "        self.SCE = sum((Y-(Y_hat))**2)\n",
    "        self.beta0 = (((len(X))*(sum(X*Y)))-((sum(X))*(sum(Y))))/(((len(X))*(sum(X**2)))-((sum(X))**2))\n",
    "        self.beta1 = (((sum(X**2))*(sum(Y)))-((sum(X))*(sum(X*Y))))/(((len(X))*(sum(X**2)))-((sum(X))**2))\n",
    "        self.x = np.array(X)\n",
    "        self.y = np.array(Y)\n",
    "        self.Y_hat = (med_y - (b1*med_x))+(SCxy/SCx)*X\n",
    "\n",
    "    #Metodo Predict()\n",
    "    def predict(self):\n",
    "        return 'Modelo Estimado Y_hat: b0:{0} + b1:{1}*Xi,'.format(self.beta0, self.beta0)\n",
    "    \n",
    "    #Metodo PredictN()\n",
    "    def predictN(self):\n",
    "        return (f'Serie Modelo Estimado({self.Y_hat})')\n",
    "    \n",
    "    #Metodo r2()\n",
    "    def r2(self):\n",
    "        #Atributos\n",
    "        self.SCxy = (sum(X*Y)) - (((sum(X))*(sum(Y)))/len(X))\n",
    "        self.SCy = (sum(Y*Y))-(((sum(Y))**2)/len(Y))\n",
    "        self.r2 = ((SCxy)**2)/(SCx*SCy)\n",
    "    \n",
    "    #Metodo r()\n",
    "    def r(self):\n",
    "        #Atributo\n",
    "        self.r = SCxy/((SCx*SCy)**(1/2))\n",
    "        \n",
    "    #Metodo getAllRegParams()\n",
    "    def getAllRegParams(self):\n",
    "        return 'Estadisticos Estimados: b0:{0}, b1:{1}, r2:{2}, r:{1},'.format(self.beta0, self.beta1, self.r2, self.r)\n",
    "    \n",
    "    #Metodo Decorador\n",
    "    @classmethod\n",
    "    def from_file(cls):\n",
    "        return cls(['Dep.Var'], ['Ind.Var']. format(self.x, self.y))\n",
    "\n",
    "\n",
    "#Crear un Objeto relacionado con la Clase\n",
    "#objeto. nombre de la clase. nombre del atributo\n",
    "\n",
    "modelo = My_regresion(X, Y)\n",
    "#print los return\n",
    "print(modelo.predict())\n",
    "print(modelo.getAllRegParams())\n",
    "print(modelo.predictN())\n"
   ]
  },
  {
   "cell_type": "code",
   "execution_count": null,
   "metadata": {},
   "outputs": [],
   "source": []
  },
  {
   "cell_type": "code",
   "execution_count": null,
   "metadata": {},
   "outputs": [],
   "source": []
  }
 ],
 "metadata": {
  "kernelspec": {
   "display_name": "Python 3",
   "language": "python",
   "name": "python3"
  },
  "language_info": {
   "codemirror_mode": {
    "name": "ipython",
    "version": 3
   },
   "file_extension": ".py",
   "mimetype": "text/x-python",
   "name": "python",
   "nbconvert_exporter": "python",
   "pygments_lexer": "ipython3",
   "version": "3.8.5"
  }
 },
 "nbformat": 4,
 "nbformat_minor": 4
}
